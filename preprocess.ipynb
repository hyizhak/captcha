{
 "cells": [
  {
   "cell_type": "code",
   "execution_count": null,
   "metadata": {
    "id": "TOWMyShjp9Sl"
   },
   "outputs": [],
   "source": [
    "import cv2\n",
    "import numpy as np\n",
    "import os\n",
    "import matplotlib.pyplot as plt\n",
    "from tqdm import tqdm\n",
    "import shutil\n",
    "\n",
    "# Paths for input and output directories\n",
    "input_dir = \"mini_project/train\"\n",
    "output_dir = \"processed\"\n",
    "global fail\n",
    "global total\n",
    "fail = 0\n",
    "total = 0\n",
    "\n",
    "# Ensure output directory exists\n",
    "if not os.path.exists(output_dir):\n",
    "    os.makedirs(output_dir)"
   ]
  },
  {
   "cell_type": "markdown",
   "metadata": {
    "id": "-pSIdBLgqHPt"
   },
   "source": [
    "Auxilliary Functions"
   ]
  },
  {
   "cell_type": "code",
   "execution_count": 18,
   "metadata": {
    "id": "xE_Bv6Cks10w"
   },
   "outputs": [],
   "source": [
    "def remove_lines(image):\n",
    "    # Convert the image to grayscale if it's not already\n",
    "    gray_image = cv2.cvtColor(image, cv2.COLOR_BGR2GRAY) if image.ndim == 3 else image\n",
    "    img_array = np.array(gray_image)\n",
    "\n",
    "    height, width = img_array.shape\n",
    "    result = img_array.copy()  # Create a copy to modify\n",
    "\n",
    "    for x in range(1, width - 1):\n",
    "        for y in range(1, height - 1):\n",
    "            count = 0\n",
    "            pixel_value = img_array[y, x]\n",
    "\n",
    "            # Check surrounding pixels\n",
    "            if pixel_value == img_array[y - 1, x + 1]:\n",
    "                count += 1\n",
    "            if pixel_value == img_array[y, x + 1]:\n",
    "                count += 1\n",
    "            if pixel_value == img_array[y + 1, x + 1]:\n",
    "                count += 1\n",
    "            if pixel_value == img_array[y - 1, x]:\n",
    "                count += 1\n",
    "            if pixel_value == img_array[y + 1, x]:\n",
    "                count += 1\n",
    "            if pixel_value == img_array[y - 1, x - 1]:\n",
    "                count += 1\n",
    "            if pixel_value == img_array[y, x - 1]:\n",
    "                count += 1\n",
    "            if pixel_value == img_array[y + 1, x - 1]:\n",
    "                count += 1\n",
    "\n",
    "            # If the count is low, consider it noise and set it to a new value (e.g., white)\n",
    "            if pixel_value == 0 and count <= 3 and count > 0:\n",
    "                result[y, x] = 255  # Set to white to remove interference\n",
    "\n",
    "    return result\n",
    "\n",
    "def tokenize_contours(image):\n",
    "    # Find contours of each character\n",
    "    contours, _ = cv2.findContours(image, cv2.RETR_EXTERNAL, cv2.CHAIN_APPROX_SIMPLE)\n",
    "\n",
    "    # Filter and sort contours\n",
    "    filtered_contours = []\n",
    "    areas = []\n",
    "    for contour in contours:\n",
    "        x, y, w, h = cv2.boundingRect(contour)\n",
    "        areas.append(w * h)\n",
    "\n",
    "    # Filter contours based on area\n",
    "    if areas:\n",
    "        median_area = np.max(areas)\n",
    "        for contour, area in zip(contours, areas):\n",
    "            x, y, w, h = cv2.boundingRect(contour)\n",
    "            if area > median_area / 10:\n",
    "                filtered_contours.append((contour, x, y, w, h))\n",
    "    else:\n",
    "        filtered_contours = []\n",
    "\n",
    "    # Sort contours from left to right based on x-coordinate\n",
    "    filtered_contours = sorted(filtered_contours, key=lambda c: c[1])\n",
    "\n",
    "    return filtered_contours\n",
    "\n",
    "def tokenize_watershed(image, binary):\n",
    "    # noise removal\n",
    "    kernel = np.ones((3,3), np.uint8)\n",
    "    opening = cv2.morphologyEx(binary, cv2.MORPH_OPEN,kernel, iterations = 2)\n",
    "\n",
    "    # sure background area\n",
    "    sure_bg = cv2.dilate(opening,  kernel, iterations=3)\n",
    "\n",
    "    # Finding sure foreground area\n",
    "    dist_transform = cv2.distanceTransform(opening, cv2.DIST_L2,5)\n",
    "    ret, sure_fg = cv2.threshold(dist_transform, 0.7*dist_transform.max(), 255, 0)\n",
    "\n",
    "    # Finding unknown region\n",
    "    sure_fg = np.uint8(sure_fg)\n",
    "    unknown = cv2.subtract(sure_bg,sure_fg)\n",
    "\n",
    "    # Marker labelling\n",
    "    ret, markers = cv2.connectedComponents(sure_fg)\n",
    "\n",
    "    # Add one to all labels so that sure background is not 0, but 1\n",
    "    markers = markers+1\n",
    "\n",
    "    # Now, mark the region of unknown with zero\n",
    "    markers[unknown==255] = 0\n",
    "\n",
    "    markers = cv2.watershed(image, markers)\n",
    "\n",
    "    # return the box based on the markers\n",
    "    boxes = []\n",
    "    for i in range(1, markers.max() + 1):\n",
    "        mask = np.zeros_like(markers, dtype=np.uint8)\n",
    "        mask[markers == i] = 255\n",
    "        contours, _ = cv2.findContours(mask, cv2.RETR_EXTERNAL, cv2.CHAIN_APPROX_SIMPLE)\n",
    "        x, y, w, h = cv2.boundingRect(contours[0])\n",
    "        boxes.append((0, x, y, w, h))\n",
    "    return boxes\n",
    "\n",
    "def tokenize_projection(image, step=3):\n",
    "    # Sum of white pixels along each column (for vertical segmentation)\n",
    "    column_sums = np.sum(image, axis=0)\n",
    "\n",
    "    # Find peaks in the column sums to detect character boundaries\n",
    "    threshold = 0.2 * np.max(column_sums)\n",
    "    start = None\n",
    "    segments = []\n",
    "\n",
    "    # Loop through the column sums with a step size\n",
    "    for i in range(0, len(column_sums), step):\n",
    "        sum_val = column_sums[i]\n",
    "\n",
    "        if sum_val > threshold and start is None:\n",
    "            start = i  # Start of a new character segment\n",
    "        elif sum_val <= threshold and start is not None:\n",
    "            segments.append((0, start, 0, i - start, image.shape[1]))  # End of a character segment\n",
    "            start = None\n",
    "\n",
    "    return segments\n",
    "\n",
    "def divide_large_segment(segments, captcha_text):\n",
    "    while len(segments) < len(captcha_text):\n",
    "        # cannot divide none\n",
    "        if len(segments) == 0:\n",
    "            break\n",
    "        # splits biggest contours\n",
    "        idx = np.argmax(segments[:, 2])\n",
    "        biggest_seg = segments[idx]\n",
    "        max_width = biggest_seg[2]\n",
    "\n",
    "        widths = np.delete(segments[:,2],idx)\n",
    "        if len(widths) > 0:\n",
    "            # call max to ensure base_width != 0\n",
    "            base_width = max(1, np.min(widths))\n",
    "        else:\n",
    "            # call max to ensure base_width != 0\n",
    "            base_width = max(1, max_width / (len(captcha_text) - len(segments) + 1))\n",
    "        ratio = max(2, int(round(max_width/base_width)))\n",
    "        ratio = min(ratio, len(captcha_text) - len(segments) + 1)\n",
    "        # cannot split\n",
    "        if biggest_seg[0] == 0:\n",
    "            break\n",
    "        if ratio == 1:\n",
    "            break\n",
    "\n",
    "        splits = np.full(ratio, max_width // ratio)\n",
    "        splits[:max_width % ratio] += 1\n",
    "        new_segments = []\n",
    "        x = biggest_seg[0]\n",
    "        for s in splits:\n",
    "            new_segments.append([x, biggest_seg[1], s, biggest_seg[3]])\n",
    "            x += s\n",
    "        segments = np.concatenate((segments[:idx], new_segments, segments[idx + 1:]))\n",
    "    return segments"
   ]
  },
  {
   "cell_type": "code",
   "execution_count": 4,
   "metadata": {
    "id": "Dqx1lLHF2Luk"
   },
   "outputs": [],
   "source": [
    "def combine_segment(segments):\n",
    "    \"\"\"\n",
    "    Combines the two closest segments based on their x-coordinates.\n",
    "\n",
    "    Parameters:\n",
    "    segments (numpy.ndarray): Array of segments, where each segment is represented as [x, y, w, h].\n",
    "\n",
    "    Returns:\n",
    "    numpy.ndarray: The updated array of segments after combining the closest two.\n",
    "    \"\"\"\n",
    "    # Initialize minimum distance and indices for merging\n",
    "    min_distance = float('inf')\n",
    "    merge_indices = (-1, -1)\n",
    "\n",
    "    # Iterate through all adjacent pairs of segments to find the closest pair\n",
    "    for i in range(len(segments) - 1):\n",
    "        # Calculate the distance between segment i and segment i+1\n",
    "        x1_end = segments[i][0] + segments[i][2]  # x + width for segment i\n",
    "        x2_start = segments[i + 1][0]  # x for segment i+1\n",
    "\n",
    "        # Distance is 0 if segments overlap; otherwise, calculate the gap\n",
    "        distance = max(0, x2_start - x1_end)\n",
    "\n",
    "        # Check if this is the minimum distance found so far\n",
    "        if distance < min_distance:\n",
    "            min_distance = distance\n",
    "            merge_indices = (i, i + 1)\n",
    "\n",
    "    # Merge the two closest segments\n",
    "    i, j = merge_indices\n",
    "    combined_segment = np.array([\n",
    "        min(segments[i][0], segments[j][0]),  # x (leftmost x-coordinate)\n",
    "        min(segments[i][1], segments[j][1]),  # y (topmost y-coordinate)\n",
    "        max(segments[i][0] + segments[i][2], segments[j][0] + segments[j][2]) - min(segments[i][0], segments[j][0]),  # new width\n",
    "        max(segments[i][1] + segments[i][3], segments[j][1] + segments[j][3]) - min(segments[i][1], segments[j][1])   # new height\n",
    "    ])\n",
    "\n",
    "    # Remove the original segments and add the combined segment\n",
    "    segments = np.delete(segments, [i, j], axis=0)\n",
    "    segments = np.vstack((segments, combined_segment))\n",
    "\n",
    "    # Return the updated list of segments sorted by x-coordinate\n",
    "    return segments[np.argsort(segments[:, 0])]\n",
    "\n",
    "def combine_and_divide(segments, captcha_text, filtered_contours):\n",
    "\n",
    "    # When there are too many segments, combine the ones close together.\n",
    "    depth_limit = 5\n",
    "    depth = 0\n",
    "    while len(captcha_text) < len(filtered_contours) and depth < depth_limit:\n",
    "        filtered_contours = combine_segment(filtered_contours)\n",
    "        depth += 1\n",
    "\n",
    "    # When there are too few segments, divide large ones.\n",
    "    depth_limit = 5\n",
    "    depth = 0\n",
    "    while len(captcha_text) > len(filtered_contours) and depth < depth_limit:\n",
    "        filtered_contours = divide_large_segment(filtered_contours, captcha_text)\n",
    "        depth += 1\n",
    "\n",
    "    return filtered_contours\n",
    "\n",
    "import numpy as np\n",
    "\n",
    "def evaluate_segmentation(segments):\n",
    "    \"\"\"\n",
    "    Evaluates a segmentation based on segment uniformity (width/height variance).\n",
    "\n",
    "    Parameters:\n",
    "    segments (numpy.ndarray): Array of segments, where each segment is represented as [x, y, w, h].\n",
    "\n",
    "    Returns:\n",
    "    float: The combined score for the segmentation, lower scores are better.\n",
    "    \"\"\"\n",
    "    # Calculate the variance in width and height\n",
    "    widths = segments[:, 2]\n",
    "    heights = segments[:, 3]\n",
    "    width_variance = np.var(widths)\n",
    "    height_variance = np.var(heights)\n",
    "\n",
    "    # Combine criteria (weighted sum, weights can be adjusted)\n",
    "    variance_weight = 1.0\n",
    "\n",
    "    # Normalize by the number of segments for variance\n",
    "    combined_score = variance_weight * (width_variance + height_variance) / len(segments)\n",
    "\n",
    "    return combined_score\n",
    "\n",
    "def select_best_segmentation(segments_list):\n",
    "    \"\"\"\n",
    "    Selects the best segmentation based on the combined score of width and height variance.\n",
    "\n",
    "    Parameters:\n",
    "    segments_list (list of numpy.ndarray): Variable number of segment arrays, each represented as [x, y, w, h].\n",
    "\n",
    "    Returns:\n",
    "    numpy.ndarray: The array of segments with the best combined score.\n",
    "    \"\"\"\n",
    "    best_score = float('inf')\n",
    "    best_segments = None\n",
    "\n",
    "    for segments in segments_list:\n",
    "        score = evaluate_segmentation(segments)\n",
    "        if score < best_score:\n",
    "            best_score = score\n",
    "            best_segments = segments\n",
    "\n",
    "    return best_segments"
   ]
  },
  {
   "cell_type": "markdown",
   "metadata": {
    "id": "SKlZTL84qDM3"
   },
   "source": [
    "Image Processing Function:"
   ]
  },
  {
   "cell_type": "code",
   "execution_count": 50,
   "metadata": {
    "id": "exgE8cVesikW"
   },
   "outputs": [],
   "source": [
    "def process_image(file_path, file_name, charcount, tokenizor, output_dir):\n",
    "    global total, fail\n",
    "\n",
    "    # Common load and preprocessing\n",
    "\n",
    "    # Load the captcha image in grayscale\n",
    "    img = cv2.imread(file_path, cv2.IMREAD_GRAYSCALE)\n",
    "    if img is None:\n",
    "        print(f\"\\33[31mError loading image: {file_path}\\33[0m\")\n",
    "        return\n",
    "\n",
    "    # print(file_name)\n",
    "\n",
    "    # print('original image:')\n",
    "    # plt.imshow(img, cmap=\"gray\")\n",
    "    # plt.show()\n",
    "\n",
    "    # Remove noisy lines\n",
    "    img = remove_lines(img)\n",
    "\n",
    "    # plt.imshow(img, cmap=\"gray\")\n",
    "    # plt.show()\n",
    "\n",
    "    # Threshold the image to binary (black and white)\n",
    "    _, processed_img = cv2.threshold(img, 250, 255, cv2.THRESH_BINARY)\n",
    "    # _, processed_img = cv2.threshold(img, 0, 255, cv2.THRESH_BINARY + cv2.THRESH_OTSU)\n",
    "\n",
    "    # print('after removing lines:')\n",
    "    # plt.imshow(processed_img, cmap=\"gray\")\n",
    "    # plt.show()\n",
    "\n",
    "    # Invert the image to make the background black and the letters white\n",
    "    processed_img = cv2.bitwise_not(processed_img)\n",
    "\n",
    "    unsegmented_img = processed_img.copy()\n",
    "\n",
    "    # We will try a few different segmentation methods. 'filtered_contours' from each method\n",
    "    # will be stored as the result in this list. Comparisions will be done to select the best result.\n",
    "    contour_lists = []\n",
    "\n",
    "    # Method 1: dilation with vertical kernels\n",
    "\n",
    "    # Apply morphological closing to connect small gaps within characters\n",
    "    kernel = np.ones((3, 3), np.uint8)\n",
    "    processed_img = cv2.morphologyEx(processed_img, cv2.MORPH_CLOSE, kernel)\n",
    "\n",
    "    # Apply dilation to connect nearby parts of letters\n",
    "    kernel1 = np.ones((1, 5), np.uint8)\n",
    "    kernel2 = np.ones((5, 1), np.uint8)\n",
    "    dilated_img = cv2.dilate(processed_img, kernel1, iterations=1)\n",
    "    dilated_img = cv2.erode(dilated_img, kernel2, iterations=1)\n",
    "\n",
    "    # print('after dilation:')\n",
    "    # plt.imshow(dilated_img, cmap=\"gray\")\n",
    "    # plt.show()\n",
    "\n",
    "    if tokenizor == 'contours':\n",
    "        filtered_contours = tokenize_contours(dilated_img)\n",
    "        # print(len(filtered_contours))\n",
    "    elif tokenizor == 'projection':\n",
    "        filtered_contours = tokenize_projection(dilated_img)\n",
    "\n",
    "    # Extract characters and save with the naming convention\n",
    "    captcha_text = file_name.split(\"-\")[0]  # Assuming filename format is 'text-0.png'\n",
    "    charcount['total'] = charcount.get('total', 0) + len(captcha_text)\n",
    "\n",
    "    dilation_steps = range(2, 5)\n",
    "    total += 1\n",
    "\n",
    "    if len(captcha_text) != len(filtered_contours):\n",
    "        # Apply dilation to connect nearby parts of letters\n",
    "        for i in dilation_steps:\n",
    "            # Kernels: suitable for vertically stretched images\n",
    "            # and removal of near-horizontal noise lines\n",
    "            further_dilated_img = cv2.dilate(processed_img, kernel1, iterations=i)\n",
    "            further_dilated_img = cv2.erode(further_dilated_img, kernel2, iterations=i)\n",
    "            if tokenizor == 'contours':\n",
    "                filtered_contours = tokenize_contours(further_dilated_img)\n",
    "                # print(f'after iteration {i}:')\n",
    "                # plt.imshow(further_dilated_img, cmap=\"gray\")\n",
    "                # plt.show()\n",
    "                # print(len(filtered_contours))\n",
    "                if len(captcha_text) == len(filtered_contours):\n",
    "                    break\n",
    "            elif tokenizor == 'projection':\n",
    "                for step in range(1, 5):\n",
    "                    filtered_contours = tokenize_projection(dilated_img, step)\n",
    "                    if len(captcha_text) == len(filtered_contours):\n",
    "                        break\n",
    "\n",
    "    filtered_contours = np.array([[x, y, w, h] for _, x, y, w, h in filtered_contours])\n",
    "    if len(captcha_text) == len(filtered_contours):\n",
    "        contour_lists.append(filtered_contours)\n",
    "\n",
    "    # Method 2 : combine and divide with horizontal kernel\n",
    "\n",
    "    # Re-calculate the dilated img. Discard the previously calculated dilated img with\n",
    "    # too many iterations with potentially large distortion.\n",
    "    dilated_img_h = cv2.dilate(processed_img, kernel2, iterations=1)\n",
    "    dilated_img_h = cv2.erode(dilated_img_h, kernel1, iterations=1)\n",
    "    filtered_contours_h = tokenize_contours(dilated_img_h)\n",
    "    filtered_contours_h = np.array([[x, y, w, h] for _, x, y, w, h in filtered_contours_h])\n",
    "\n",
    "    # print('(c&d witg transposed kernel) after dilation:')\n",
    "    # plt.imshow(dilated_img_h, cmap=\"gray\")\n",
    "    # plt.show()\n",
    "\n",
    "    filtered_contours_h = combine_and_divide(filtered_contours, captcha_text, filtered_contours_h)\n",
    "    if len(captcha_text) == len(filtered_contours_h):\n",
    "        contour_lists.append(filtered_contours_h)\n",
    "\n",
    "    # Method 3: combine and divide with vertical kernel\n",
    "\n",
    "    # Re-calculate the dilated img. Discard the previously calculated dilated img with\n",
    "    # too many iterations with potentially large distortion.\n",
    "    dilated_img = cv2.dilate(processed_img, kernel1, iterations=1)\n",
    "    dilated_img = cv2.erode(dilated_img, kernel2, iterations=1)\n",
    "    filtered_contours = tokenize_contours(dilated_img)\n",
    "    filtered_contours = np.array([[x, y, w, h] for _, x, y, w, h in filtered_contours])\n",
    "\n",
    "    # print('(c&d witg original kernel) after dilation:')\n",
    "    # plt.imshow(dilated_img, cmap=\"gray\")\n",
    "    # plt.show()\n",
    "\n",
    "    filtered_contours = combine_and_divide(filtered_contours, captcha_text, filtered_contours)\n",
    "\n",
    "    if len(captcha_text) == len(filtered_contours):\n",
    "        contour_lists.append(filtered_contours)\n",
    "\n",
    "\n",
    "    # Method 4: No dilation (for characters with thin boundaries, e.g. be1nxzo-0.png)\n",
    "    filtered_contours = tokenize_contours(processed_img)\n",
    "    filtered_contours = np.array([[x, y, w, h] for _, x, y, w, h in filtered_contours])\n",
    "\n",
    "    # print('without dilation:')\n",
    "    # plt.imshow(dilated_img, cmap=\"gray\")\n",
    "    # plt.show()\n",
    "\n",
    "    filtered_contours = combine_and_divide(filtered_contours, captcha_text, filtered_contours)\n",
    "\n",
    "    if len(captcha_text) == len(filtered_contours):\n",
    "        contour_lists.append(filtered_contours)\n",
    "\n",
    "\n",
    "    # Compare and select the best segmentation outcome\n",
    "\n",
    "    if len(contour_lists) == 0:\n",
    "        fail += 1\n",
    "        print('error img:')\n",
    "        plt.imshow(dilated_img, cmap=\"gray\")\n",
    "        plt.show()\n",
    "        print(f\"Skipping {file_name} due to length mismatch: {len(captcha_text)} != {len(filtered_contours)}\")\n",
    "        return\n",
    "\n",
    "    filtered_contours = select_best_segmentation(contour_lists)\n",
    "\n",
    "    for i, (x, y, w, h) in enumerate(filtered_contours):\n",
    "        # include a small margin outside the identified text to avoid important information at boundaries being cropped\n",
    "        MARGIN = 2\n",
    "        X_MAX = unsegmented_img.shape[1]\n",
    "        Y_MAX = unsegmented_img.shape[0]\n",
    "\n",
    "        # Crop and resize each character\n",
    "        # char_img = unsegmented_img[y:y+h, x:x+w]\n",
    "        char_img = unsegmented_img[max(0, y-MARGIN):min(Y_MAX, y+h+MARGIN), max(0, x-MARGIN):min(X_MAX,x+w+MARGIN)]\n",
    "        char_img = cv2.resize(char_img, (224, 224))  # Resize to a fixed size\n",
    "\n",
    "        # plt.imshow(char_img, cmap=\"gray\")\n",
    "        # plt.show()\n",
    "\n",
    "        # Save each character with the naming convention, mark the number of the character\n",
    "        # charcount[captcha_text[i]] = charcount.get(captcha_text[i], 0) + 1\n",
    "        char_filename = f\"{captcha_text[i]}_{i}_{captcha_text}.png\"\n",
    "        cv2.imwrite(os.path.join(output_dir, char_filename), char_img)"
   ]
  },
  {
   "cell_type": "code",
   "execution_count": 39,
   "metadata": {
    "id": "xdgo2Y9DcLxB"
   },
   "outputs": [],
   "source": [
    "def prepare_image_folder(source, destination):\n",
    "    # Ensure output directory exists\n",
    "    if not os.path.exists(destination):\n",
    "        os.makedirs(destination)\n",
    "\n",
    "    # Iterate through the files in the source folder\n",
    "    for filename in os.listdir(source):\n",
    "        # Check if the file is a .png image\n",
    "        if filename.endswith('.png'):\n",
    "            # Split the filename to extract {id}\n",
    "            parts = filename.split('_')\n",
    "            if len(parts) >= 3:\n",
    "                id_part = parts[2].split('.')[0]  # Extract {id} without the file extension\n",
    "\n",
    "                # Create a subfolder named by {id} if it does not exist\n",
    "                id_folder_path = os.path.join(destination, id_part)\n",
    "                if not os.path.exists(id_folder_path):\n",
    "                    os.makedirs(id_folder_path)\n",
    "\n",
    "                # Copy the image to the corresponding subfolder\n",
    "                source_file_path = os.path.join(source, filename)\n",
    "                destination_file_path = os.path.join(id_folder_path, filename)\n",
    "                shutil.copy(source_file_path, destination_file_path)"
   ]
  },
  {
   "cell_type": "markdown",
   "metadata": {
    "id": "YQq73oq2q6jP"
   },
   "source": [
    "Tester:"
   ]
  },
  {
   "cell_type": "code",
   "execution_count": null,
   "metadata": {
    "id": "u3o0Qh8Jq8G4"
   },
   "outputs": [],
   "source": [
    "input_dir = \"/content/drive/MyDrive/cs4243_group_folder/code/mini_project/train\"\n",
    "# Some Challenging Captchas\n",
    "\n",
    "# filename = \"2bjj1pos-0.png\"\n",
    "# filename = \"ngt7gmz-0.png\"\n",
    "# filename = \"lva2bqcz-0.png\"\n",
    "# filename = \"n9t72-0.png\"\n",
    "# filename = \"2mo9qj39-0.png\"\n",
    "# filename = \"wxw2g9o-0.png\"\n",
    "# filename = \"xun9-0.png\"\n",
    "# filename = \"be1nxzo-0.png\"\n",
    "# filename = \"7d02g-0.png\"\n",
    "# filename = \"4wtr-0.png\"\n",
    "# filename = \"sfaqe0-0.png\"\n",
    "# filename = \"wa52ybn1-0.png\"\n",
    "filename = \"rfsh95f-0.png\"\n",
    "\n",
    "charcount = {}\n",
    "tokenizer = 'contours'\n",
    "\n",
    "process_image(os.path.join(input_dir, filename), filename, charcount, tokenizer, output_dir)"
   ]
  },
  {
   "cell_type": "markdown",
   "metadata": {
    "id": "n2EIgY7Aq1bE"
   },
   "source": [
    "Main function:"
   ]
  },
  {
   "cell_type": "code",
   "execution_count": null,
   "metadata": {
    "colab": {
     "base_uri": "https://localhost:8080/",
     "height": 773
    },
    "id": "od-eggKCq02w",
    "outputId": "82462a00-4722-48fd-827f-ac383d824467"
   },
   "outputs": [
    {
     "name": "stderr",
     "output_type": "stream",
     "text": [
      "  2%|▏         | 161/8010 [03:33<35:10,  3.72it/s]"
     ]
    },
    {
     "name": "stdout",
     "output_type": "stream",
     "text": [
      "error img:\n"
     ]
    },
    {
     "data": {
      "image/png": "[encoded data removed]",
      "text/plain": [
       "<Figure size 640x480 with 1 Axes>"
      ]
     },
     "metadata": {},
     "output_type": "display_data"
    },
    {
     "name": "stderr",
     "output_type": "stream",
     "text": [
      "\r  2%|▏         | 162/8010 [03:33<35:11,  3.72it/s]"
     ]
    },
    {
     "name": "stdout",
     "output_type": "stream",
     "text": [
      "Skipping wa52ybn1-0.png due to length mismatch: 8 != 6\n"
     ]
    },
    {
     "name": "stderr",
     "output_type": "stream",
     "text": [
      " 11%|█         | 860/8010 [06:28<42:51,  2.78it/s]"
     ]
    },
    {
     "name": "stdout",
     "output_type": "stream",
     "text": [
      "error img:\n"
     ]
    },
    {
     "data": {
      "image/png": "[encoded data removed]",
      "text/plain": [
       "<Figure size 640x480 with 1 Axes>"
      ]
     },
     "metadata": {},
     "output_type": "display_data"
    },
    {
     "name": "stderr",
     "output_type": "stream",
     "text": [
      "\r 11%|█         | 861/8010 [06:28<43:46,  2.72it/s]"
     ]
    },
    {
     "name": "stdout",
     "output_type": "stream",
     "text": [
      "Skipping rfsh95f-0.png due to length mismatch: 7 != 3\n"
     ]
    },
    {
     "name": "stderr",
     "output_type": "stream",
     "text": [
      " 24%|██▍       | 1933/8010 [11:04<23:06,  4.38it/s]"
     ]
    },
    {
     "name": "stdout",
     "output_type": "stream",
     "text": [
      "error img:\n"
     ]
    },
    {
     "data": {
      "image/png": "[encoded data removed]",
      "text/plain": [
       "<Figure size 640x480 with 1 Axes>"
      ]
     },
     "metadata": {},
     "output_type": "display_data"
    },
    {
     "name": "stderr",
     "output_type": "stream",
     "text": [
      "\r 24%|██▍       | 1934/8010 [11:05<24:02,  4.21it/s]"
     ]
    },
    {
     "name": "stdout",
     "output_type": "stream",
     "text": [
      "Skipping 70do56y-0.png due to length mismatch: 7 != 3\n"
     ]
    },
    {
     "name": "stderr",
     "output_type": "stream",
     "text": [
      "100%|██████████| 8010/8010 [37:01<00:00,  3.61it/s]"
     ]
    },
    {
     "name": "stdout",
     "output_type": "stream",
     "text": [
      "Number of failed cases:10\n",
      "Fail rate:0.0006629541235746487\n"
     ]
    },
    {
     "name": "stderr",
     "output_type": "stream",
     "text": [
      "\n"
     ]
    }
   ],
   "source": [
    "if __name__ == \"__main__\":\n",
    "    # Process each file in the input directory\n",
    "    tokenizer = 'contours'\n",
    "    # tokenizer = 'projection'\n",
    "\n",
    "    input_dir = \"/content/drive/MyDrive/cs4243_group_folder/code/mini_project/train\"\n",
    "    output_dir = f\"{output_dir}_{tokenizer}\"\n",
    "    # Ensure output directory exists\n",
    "    if not os.path.exists(output_dir):\n",
    "        os.makedirs(output_dir)\n",
    "\n",
    "    charcount = {}\n",
    "    for filename in tqdm(os.listdir(input_dir)):\n",
    "        if filename.endswith(\".png\"):\n",
    "            process_image(os.path.join(input_dir, filename), filename, charcount, tokenizer, output_dir)\n",
    "\n",
    "    print(f\"Number of failed cases:{fail}\")\n",
    "    percentage = fail / total\n",
    "    print(f\"Fail rate:{percentage}\")"
   ]
  },
  {
   "cell_type": "code",
   "execution_count": 22,
   "metadata": {
    "id": "vdqQuFzqy_ko"
   },
   "outputs": [],
   "source": [
    "# Google Drive may fail to batch-process many files\n",
    "# Back-up source before running this cell, or run this cell locally.\n",
    "source = \"/content/drive/MyDrive/cs4243_group_folder/code/processed_contours_contours/\"\n",
    "destination = \"/content/drive/MyDrive/cs4243_group_folder/code/train_segmented/\"\n",
    "\n",
    "prepare_image_folder(source, destination)"
   ]
  },
  {
   "cell_type": "code",
   "execution_count": null,
   "metadata": {
    "id": "Z46GZy00eyVW"
   },
   "outputs": [],
   "source": []
  }
 ],
 "metadata": {
  "colab": {
   "provenance": []
  },
  "kernelspec": {
   "display_name": "Python 3",
   "name": "python3"
  },
  "language_info": {
   "name": "python"
  }
 },
 "nbformat": 4,
 "nbformat_minor": 0
}
